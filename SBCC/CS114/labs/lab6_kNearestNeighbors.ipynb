{
  "nbformat": 4,
  "nbformat_minor": 0,
  "metadata": {
    "colab": {
      "private_outputs": true,
      "provenance": [],
      "cell_execution_strategy": "setup"
    },
    "kernelspec": {
      "name": "python3",
      "display_name": "Python 3"
    },
    "language_info": {
      "name": "python"
    }
  },
  "cells": [
    {
      "cell_type": "markdown",
      "source": [
        "*Authored 2023 by [TRL](https://github.com/tylew)*"
      ],
      "metadata": {
        "id": "4VrljMuBW6TP"
      }
    },
    {
      "cell_type": "code",
      "execution_count": null,
      "metadata": {
        "id": "72GBT6vO61cR"
      },
      "outputs": [],
      "source": [
        "import random\n",
        "import cv2\n",
        "import numpy as np\n",
        "import torchvision\n",
        "import PIL\n",
        "\n",
        "mnist_train = torchvision.datasets.MNIST(root='./data', train=True, download=True)\n",
        "mnist_test = torchvision.datasets.MNIST(root='./data', train=False, download=True)"
      ]
    },
    {
      "cell_type": "code",
      "source": [
        "from collections import Counter\n",
        "\n",
        "# Helper functions\n",
        "def find_most_common_label(k_nearest_items):\n",
        "  labels = [label for _, label in k_nearest_items]\n",
        "  label_counts = Counter(labels)\n",
        "  most_common_label = label_counts.most_common(1)[0][0]\n",
        "  return most_common_label\n",
        "\n",
        "def convert_to_vector(input_image):\n",
        "  if isinstance(input_image, np.ndarray):\n",
        "      # It's already a NumPy array, no need to cast\n",
        "      return input_image\n",
        "  else:\n",
        "      # Cast it to a NumPy array\n",
        "      return np.array(input_image)\n",
        "\n",
        "def distance(v1,v2):\n",
        "  dist = cv2.norm(v1, v2, cv2.NORM_L2)\n",
        "  return dist"
      ],
      "metadata": {
        "id": "aWAQ_4Xrlyeh"
      },
      "execution_count": null,
      "outputs": []
    },
    {
      "cell_type": "code",
      "source": [
        "def k_nearest_neighbor(input_image, dataset: list, k=10):\n",
        "  # Ensure input is vectorized\n",
        "  input_vector = convert_to_vector(input_image)\n",
        "  # Itterate dataset of comparable images,\n",
        "  # calculate distances to the unknown-label input vector\n",
        "  item_distance_list = [\n",
        "    (\n",
        "      distance(convert_to_vector(img), input_vector),\n",
        "      label,\n",
        "    )\n",
        "    for img, label in dataset\n",
        "  ]\n",
        "  # Sort list by idx 0 -> distance\n",
        "  sorted_item_distance_list = sorted(item_distance_list, key=lambda x: x[0])\n",
        "\n",
        "  # Take the k smallest distance items\n",
        "  k_nearest_items = sorted_item_distance_list[:k]\n",
        "\n",
        "  # Find most common label in nearest item list\n",
        "  most_common_label = find_most_common_label(k_nearest_items)\n",
        "\n",
        "  # Return\n",
        "  return most_common_label"
      ],
      "metadata": {
        "id": "8MmDjNemW2HI"
      },
      "execution_count": null,
      "outputs": []
    },
    {
      "cell_type": "code",
      "source": [
        "def test_model(k:int = 10):\n",
        "  runs = 0\n",
        "  accurate_runs = 0\n",
        "\n",
        "  len_data = len(mnist_train)\n",
        "  random_indices = random.sample(range(len_data), min(1000,len_data))\n",
        "\n",
        "  for idx in random_indices:\n",
        "    # Retrieve current test img & label\n",
        "    sample_image, label = mnist_train[idx]\n",
        "    # Determine nearest neighbor\n",
        "    nearest_neighbor = k_nearest_neighbor(sample_image, mnist_test, k)\n",
        "\n",
        "\n",
        "    if label == nearest_neighbor:\n",
        "      accurate_runs += 1\n",
        "    runs += 1\n",
        "\n",
        "\n",
        "  accuracy = (accurate_runs / runs) * 100\n",
        "\n",
        "  print(str(accuracy) + \"% accuracy for k value = \" + str(k))\n",
        "\n"
      ],
      "metadata": {
        "id": "WHNgh-7Hj5EF"
      },
      "execution_count": null,
      "outputs": []
    },
    {
      "cell_type": "code",
      "source": [
        "test_model()"
      ],
      "metadata": {
        "id": "UTOhg9XUjlaG"
      },
      "execution_count": null,
      "outputs": []
    }
  ]
}
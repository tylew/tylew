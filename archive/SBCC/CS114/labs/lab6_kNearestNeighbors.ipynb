{
  "cells": [
    {
      "cell_type": "markdown",
      "metadata": {
        "id": "4VrljMuBW6TP"
      },
      "source": [
        "*Authored 2023 by [TRL](https://github.com/tylew)*"
      ]
    },
    {
      "cell_type": "code",
      "execution_count": 3,
      "metadata": {
        "id": "72GBT6vO61cR"
      },
      "outputs": [
        {
          "name": "stderr",
          "output_type": "stream",
          "text": [
            "/Users/fsl/Library/Python/3.9/lib/python/site-packages/tqdm/auto.py:21: TqdmWarning: IProgress not found. Please update jupyter and ipywidgets. See https://ipywidgets.readthedocs.io/en/stable/user_install.html\n",
            "  from .autonotebook import tqdm as notebook_tqdm\n"
          ]
        }
      ],
      "source": [
        "import random\n",
        "import numpy as np\n",
        "import cv2\n",
        "from collections import Counter\n",
        "import torchvision\n",
        "from tqdm import tqdm  # Import tqdm for progress bar\n",
        "\n",
        "mnist_train = torchvision.datasets.MNIST(root='./data', train=True, download=True)\n",
        "mnist_test = torchvision.datasets.MNIST(root='./data', train=False, download=True)"
      ]
    },
    {
      "cell_type": "code",
      "execution_count": 4,
      "metadata": {
        "id": "aWAQ_4Xrlyeh"
      },
      "outputs": [],
      "source": [
        "# Helper functions\n",
        "def find_most_common_label(k_nearest_items):\n",
        "  labels = [label for _, label in k_nearest_items]\n",
        "  label_counts = Counter(labels)\n",
        "  most_common_label = label_counts.most_common(1)[0][0]\n",
        "  return most_common_label\n",
        "\n",
        "def convert_to_vector(input_image):\n",
        "  if isinstance(input_image, np.ndarray):\n",
        "      # It's already a NumPy array, no need to cast\n",
        "      return input_image\n",
        "  else:\n",
        "      # Cast it to a NumPy array\n",
        "      return np.array(input_image)\n",
        "\n",
        "def distance(v1,v2):\n",
        "  dist = cv2.norm(v1, v2, cv2.NORM_L2)\n",
        "  return dist"
      ]
    },
    {
      "cell_type": "code",
      "execution_count": 5,
      "metadata": {
        "id": "8MmDjNemW2HI"
      },
      "outputs": [],
      "source": [
        "def k_nearest_neighbor(input_image, dataset: list, k=10):\n",
        "  # Ensure input is vectorized\n",
        "  input_vector = convert_to_vector(input_image)\n",
        "  # Itterate dataset of comparable images,\n",
        "  # calculate distances to the unknown-label input vector\n",
        "  item_distance_list = [\n",
        "    (\n",
        "      distance(convert_to_vector(img), input_vector),\n",
        "      label,\n",
        "    )\n",
        "    for img, label in dataset\n",
        "  ]\n",
        "  # Sort list by idx 0 -> distance\n",
        "  sorted_item_distance_list = sorted(item_distance_list, key=lambda x: x[0])\n",
        "\n",
        "  # Take the k smallest distance items\n",
        "  k_nearest_items = sorted_item_distance_list[:k]\n",
        "\n",
        "  # Find most common label in nearest item list\n",
        "  most_common_label = find_most_common_label(k_nearest_items)\n",
        "\n",
        "  # Return\n",
        "  return most_common_label"
      ]
    },
    {
      "cell_type": "code",
      "execution_count": 6,
      "metadata": {
        "id": "WHNgh-7Hj5EF"
      },
      "outputs": [],
      "source": [
        "def test_model(k:int = 10, max_samples:int = 1000):\n",
        "  runs = 0\n",
        "  accurate_runs = 0\n",
        "\n",
        "  # Limit the number of samples to test\n",
        "  len_data = len(mnist_train)\n",
        "  random_indices = random.sample(range(len_data), min(max_samples, len_data))\n",
        "\n",
        "  # Create progress bar\n",
        "  progress_bar = tqdm(total=len(random_indices), desc=\"Testing\")\n",
        "\n",
        "  for idx in random_indices:\n",
        "      # Retrieve current test image and label\n",
        "      sample_image, label = mnist_train[idx]\n",
        "      \n",
        "      # Determine nearest neighbor\n",
        "      nearest_neighbor = k_nearest_neighbor(sample_image, mnist_test, k)\n",
        "\n",
        "      runs += 1\n",
        "      if label == nearest_neighbor:\n",
        "          accurate_runs += 1\n",
        "\n",
        "      # Update progress bar\n",
        "      progress_bar.update(1)\n",
        "\n",
        "  accuracy = (accurate_runs / runs) * 100\n",
        "\n",
        "  # Close progress bar\n",
        "  progress_bar.close()\n",
        "\n",
        "  # Print final accuracy\n",
        "  print(f\"\\n{accuracy:.2f}% accuracy for k value = {k}\")\n",
        "\n"
      ]
    },
    {
      "cell_type": "code",
      "execution_count": 9,
      "metadata": {
        "id": "UTOhg9XUjlaG"
      },
      "outputs": [
        {
          "name": "stderr",
          "output_type": "stream",
          "text": [
            "Testing:   0%|          | 0/10 [00:00<?, ?it/s]"
          ]
        },
        {
          "name": "stderr",
          "output_type": "stream",
          "text": [
            "Testing: 100%|██████████| 10/10 [00:14<00:00,  1.49s/it]"
          ]
        },
        {
          "name": "stdout",
          "output_type": "stream",
          "text": [
            "\n",
            "100.00% accuracy for k value = 15\n"
          ]
        },
        {
          "name": "stderr",
          "output_type": "stream",
          "text": [
            "\n"
          ]
        }
      ],
      "source": [
        "test_model(k=15,max_samples=10)"
      ]
    },
    {
      "cell_type": "code",
      "execution_count": null,
      "metadata": {},
      "outputs": [],
      "source": []
    }
  ],
  "metadata": {
    "colab": {
      "cell_execution_strategy": "setup",
      "private_outputs": true,
      "provenance": []
    },
    "kernelspec": {
      "display_name": "Python 3",
      "name": "python3"
    },
    "language_info": {
      "codemirror_mode": {
        "name": "ipython",
        "version": 3
      },
      "file_extension": ".py",
      "mimetype": "text/x-python",
      "name": "python",
      "nbconvert_exporter": "python",
      "pygments_lexer": "ipython3",
      "version": "3.9.16"
    }
  },
  "nbformat": 4,
  "nbformat_minor": 0
}

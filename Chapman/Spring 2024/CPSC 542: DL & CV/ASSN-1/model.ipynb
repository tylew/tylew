{
  "cells": [
    {
      "cell_type": "code",
      "source": [
        "from helper1 import Kuzushiji49Dataset"
      ],
      "metadata": {
        "id": "s09Z68otYnop"
      },
      "execution_count": 35,
      "outputs": []
    },
    {
      "cell_type": "code",
      "execution_count": null,
      "metadata": {
        "id": "0r322XfziKHq"
      },
      "outputs": [],
      "source": [
        "import torch\n",
        "# import dataset\n",
        "from torchvision.datasets import KMNIST\n",
        "\n",
        "# import Conv.NN PyTorch packages\n",
        "from torch.nn import Module\n",
        "from torch.nn import Conv2d\n",
        "from torch.nn import Linear\n",
        "from torch.nn import MaxPool2d\n",
        "from torch.nn import ReLU\n",
        "from torch.nn import LogSoftmax\n",
        "from torch import flatten\n",
        "\n",
        "# import PyTorch data handling functions\n",
        "from torch.utils.data import random_split\n",
        "from torch.utils.data import DataLoader\n",
        "from torchvision.transforms import ToTensor, ToPILImage\n",
        "from torch.optim import Adam\n",
        "from torch import nn\n",
        "\n",
        "# import all other necessary packages\n",
        "import matplotlib\n",
        "from sklearn.metrics import classification_report\n",
        "import matplotlib.pyplot as plt\n",
        "import numpy as np\n",
        "import argparse\n",
        "import time"
      ]
    },
    {
      "cell_type": "code",
      "execution_count": null,
      "metadata": {
        "id": "hGB_HlWaibgf"
      },
      "outputs": [],
      "source": [
        "class LeNet(Module):\n",
        "\tdef __init__(self, numChannels, classes):\n",
        "\t\t# call the PyTorch 'Module' parent constructor\n",
        "\t\tsuper(LeNet, self).__init__()\n",
        "\t\t# initialize a set of CONV => RELU => POOL layers\n",
        "\t\t# Convolution layer - 20 filters, 5x5\n",
        "\t\tself.conv1 = Conv2d(in_channels=numChannels, out_channels=20, kernel_size=(5, 5))\n",
        "\t\tself.relu1 = ReLU()\n",
        "\t\tself.maxpool1 = MaxPool2d(kernel_size=(2, 2), stride=(2, 2))\n",
        "\t\t# initialize another set of CONV => RELU => POOL layers\n",
        "\t\tself.conv2 = Conv2d(in_channels=20, out_channels=50, kernel_size=(5, 5))\n",
        "\t\tself.relu2 = ReLU()\n",
        "\t\tself.maxpool2 = MaxPool2d(kernel_size=(2, 2), stride=(2, 2))\n",
        "\t\t# initialize set of FC => RELU layers\n",
        "\t\tself.fc1 = Linear(in_features=800, out_features=500)\n",
        "\t\tself.relu3 = ReLU()\n",
        "\t\t# initialize our softmax classifier\n",
        "\t\tself.fc2 = Linear(in_features=500, out_features=classes)\n",
        "\t\tself.logSoftmax = LogSoftmax(dim=1)\n",
        "\n",
        "\tdef forward(self, x):\n",
        "\t\t# pass the input through our first set of layers\n",
        "\t\t# CONV => RELU => MAX POOL\n",
        "\t\tx = self.conv1(x)\n",
        "\t\tx = self.relu1(x)\n",
        "\t\tx = self.maxpool1(x)\n",
        "\t\t# pass the output from the previous layer through the second\n",
        "\t\t# set of CONV => RELU => POOL layers\n",
        "\t\tx = self.conv2(x)\n",
        "\t\tx = self.relu2(x)\n",
        "\t\tx = self.maxpool2(x)\n",
        "\t\t# flatten the output from the previous layer and pass it\n",
        "\t\t# through our only set of FC => RELU layers\n",
        "\t\tx = flatten(x, 1)\n",
        "\t\tx = self.fc1(x)\n",
        "\t\tx = self.relu3(x)\n",
        "\t\t# pass the output to our softmax classifier to get our output\n",
        "\t\t# predictions\n",
        "\t\tx = self.fc2(x)\n",
        "\t\toutput = self.logSoftmax(x)\n",
        "\t\t# return the output predictions\n",
        "\t\treturn output"
      ]
    },
    {
      "cell_type": "code",
      "execution_count": null,
      "metadata": {
        "id": "fFVmj23Nioi_"
      },
      "outputs": [],
      "source": [
        "          # define training hyperparameters\n",
        "INIT_LR = 1e-3\n",
        "BATCH_SIZE = 64\n",
        "EPOCHS = 10\n",
        "# define the train and val splits\n",
        "TRAIN_SPLIT = 0.75\n",
        "VAL_SPLIT = 1 - TRAIN_SPLIT\n",
        "# set the device we will be using to train the model\n",
        "device = torch.device(\"cuda\" if torch.cuda.is_available() else \"cpu\")"
      ]
    },
    {
      "cell_type": "code",
      "execution_count": 37,
      "metadata": {
        "id": "UlrqP2KxivaG",
        "colab": {
          "base_uri": "https://localhost:8080/"
        },
        "outputId": "17502e12-1a42-4ace-c7a4-04c076368d23"
      },
      "outputs": [
        {
          "output_type": "stream",
          "name": "stdout",
          "text": [
            "[INFO] loading the KMNIST dataset...\n",
            "[INFO] completed loading dataset.\n",
            "[INFO] generating the train/validation split...\n",
            "[INFO] Setup complete.\n"
          ]
        }
      ],
      "source": [
        "# load the KMNISTT dataset\n",
        "print(\"[INFO] loading the KMNIST dataset...\")\n",
        "# trainData = KMNIST(root=\"data\", train=True, download=True, transform=ToTensor())\n",
        "# testData = KMNIST(root=\"data\", train=False, download=True, transform=ToTensor())\n",
        "\n",
        "trainData = Kuzushiji49Dataset(data_dir=\"data\", train=True, transform=ToTensor())\n",
        "testData = Kuzushiji49Dataset(data_dir=\"data\", train=False, transform=ToTensor())\n",
        "\n",
        "\n",
        "# calculate the train/validation split\n",
        "print(\"[INFO] completed loading dataset.\")\n",
        "print(\"[INFO] generating the train/validation split...\")\n",
        "\n",
        "# Calculate the number of samples for training and validation\n",
        "numTrainSamples = int(len(trainData) * TRAIN_SPLIT)\n",
        "# Direct calculation of numValSamples to ensure total sum correctness\n",
        "numValSamples = len(trainData) - numTrainSamples\n",
        "\n",
        "# Apply random_split correctly\n",
        "(trainDataSplit, valDataSplit) = random_split(trainData, [numTrainSamples, numValSamples], generator=torch.Generator().manual_seed(42))\n",
        "\n",
        "# Initialize the train, validation, and test data loaders\n",
        "# Note: You should ensure testData is correctly defined before this point\n",
        "trainDataLoader = DataLoader(trainDataSplit, batch_size=BATCH_SIZE, shuffle=True)\n",
        "valDataLoader = DataLoader(valDataSplit, batch_size=BATCH_SIZE, shuffle=False)\n",
        "testDataLoader = DataLoader(testData, batch_size=BATCH_SIZE, shuffle=False)\n",
        "\n",
        "# Recalculate steps per epoch for training and validation set based on actual split datasets\n",
        "trainSteps = len(trainDataSplit) // BATCH_SIZE\n",
        "valSteps = len(valDataSplit) // BATCH_SIZE\n",
        "\n",
        "print(\"[INFO] Setup complete.\")"
      ]
    },
    {
      "cell_type": "code",
      "execution_count": 38,
      "metadata": {
        "id": "sxS97gRBi0ja",
        "colab": {
          "base_uri": "https://localhost:8080/"
        },
        "outputId": "158e69f1-960d-4941-d50d-4f47be51744a"
      },
      "outputs": [
        {
          "output_type": "stream",
          "name": "stdout",
          "text": [
            "[INFO] initializing the LeNet model...\n"
          ]
        }
      ],
      "source": [
        "# initialize the LeNet model\n",
        "print(\"[INFO] initializing the LeNet model...\")\n",
        "model = LeNet(\n",
        "\tnumChannels=1,\n",
        "\tclasses=len(trainData.classes)).to(device)\n",
        "\n",
        "# initialize our optimizer and loss function\n",
        "opt = Adam(model.parameters(), lr=INIT_LR)\n",
        "lossFn = nn.NLLLoss()\n",
        "\n",
        "# initialize a dictionary to store training history\n",
        "TRAIN_HISTORY = {\n",
        "\t\"train_loss\": [],\n",
        "\t\"train_acc\": [],\n",
        "\t\"val_loss\": [],\n",
        "\t\"val_acc\": []\n",
        "}"
      ]
    },
    {
      "cell_type": "code",
      "execution_count": 39,
      "metadata": {
        "colab": {
          "base_uri": "https://localhost:8080/"
        },
        "id": "Hbr2h9wni4ot",
        "outputId": "14e90ffa-59a8-40f7-e8e4-7d7b17b784d2"
      },
      "outputs": [
        {
          "output_type": "stream",
          "name": "stdout",
          "text": [
            "[INFO] training the CNN...\n",
            "[INFO] EPOCH: 1/10\n",
            "Train loss: 0.536884, Train accuracy: 0.8561\n",
            "Val loss: 0.293800, Val accuracy: 0.9176\n",
            "\n",
            "[INFO] EPOCH: 2/10\n",
            "Train loss: 0.207312, Train accuracy: 0.9410\n",
            "Val loss: 0.212111, Val accuracy: 0.9402\n",
            "\n",
            "[INFO] EPOCH: 3/10\n",
            "Train loss: 0.145194, Train accuracy: 0.9584\n",
            "Val loss: 0.177643, Val accuracy: 0.9513\n",
            "\n",
            "[INFO] EPOCH: 4/10\n",
            "Train loss: 0.111795, Train accuracy: 0.9672\n",
            "Val loss: 0.188212, Val accuracy: 0.9490\n",
            "\n",
            "[INFO] EPOCH: 5/10\n",
            "Train loss: 0.087725, Train accuracy: 0.9730\n",
            "Val loss: 0.191091, Val accuracy: 0.9529\n",
            "\n",
            "[INFO] EPOCH: 6/10\n",
            "Train loss: 0.070553, Train accuracy: 0.9781\n",
            "Val loss: 0.190573, Val accuracy: 0.9531\n",
            "\n",
            "[INFO] EPOCH: 7/10\n",
            "Train loss: 0.058527, Train accuracy: 0.9813\n",
            "Val loss: 0.202740, Val accuracy: 0.9521\n",
            "\n",
            "[INFO] EPOCH: 8/10\n",
            "Train loss: 0.049918, Train accuracy: 0.9838\n",
            "Val loss: 0.203872, Val accuracy: 0.9546\n",
            "\n",
            "[INFO] EPOCH: 9/10\n",
            "Train loss: 0.044887, Train accuracy: 0.9853\n",
            "Val loss: 0.210383, Val accuracy: 0.9546\n",
            "\n",
            "[INFO] EPOCH: 10/10\n",
            "Train loss: 0.038549, Train accuracy: 0.9875\n",
            "Val loss: 0.214400, Val accuracy: 0.9566\n",
            "\n",
            "[INFO] Completed training.\n",
            "[INFO] total time taken to train the model: 1619.54s\n"
          ]
        }
      ],
      "source": [
        "# Initialize model training\n",
        "print(\"[INFO] training the CNN...\")\n",
        "\n",
        "# measure how long training is going to take\n",
        "startTime = time.time()\n",
        "\n",
        "# loop over epochs\n",
        "for e in range(0, EPOCHS):\n",
        "\t# set the model in training mode\n",
        "\tmodel.train()\n",
        "\t# initialize the total training and validation loss\n",
        "\ttotalTrainLoss = 0\n",
        "\ttotalValLoss = 0\n",
        "\t# initialize the number of correct predictions in the training\n",
        "\t# and validation step\n",
        "\ttrainCorrect = 0\n",
        "\tvalCorrect = 0\n",
        "\t# loop over the training set\n",
        "\tfor (x, y) in trainDataLoader:\n",
        "\t\t# send the input to the device\n",
        "\t\t(x, y) = (x.to(device), y.to(device))\n",
        "\t\t# perform a forward pass and calculate the training loss\n",
        "\t\tpred = model(x)\n",
        "\t\tloss = lossFn(pred, y)\n",
        "\t\t# zero out the gradients, perform the backpropagation step,\n",
        "\t\t# and update the weights\n",
        "\t\topt.zero_grad()\n",
        "\t\tloss.backward()\n",
        "\t\topt.step()\n",
        "\t\t# add the loss to the total training loss so far and\n",
        "\t\t# calculate the number of correct predictions\n",
        "\t\ttotalTrainLoss += loss\n",
        "\t\ttrainCorrect += (pred.argmax(1) == y).type(\n",
        "\t\t\ttorch.float).sum().item()\n",
        "\n",
        "    # switch off autograd for evaluation\n",
        "\twith torch.no_grad():\n",
        "\t\t# set the model in evaluation mode\n",
        "\t\tmodel.eval()\n",
        "\t\t# loop over the validation set\n",
        "\t\tfor (x, y) in valDataLoader:\n",
        "\t\t\t# send the input to the device\n",
        "\t\t\t(x, y) = (x.to(device), y.to(device))\n",
        "\t\t\t# make the predictions and calculate the validation loss\n",
        "\t\t\tpred = model(x)\n",
        "\t\t\ttotalValLoss += lossFn(pred, y)\n",
        "\t\t\t# calculate the number of correct predictions\n",
        "\t\t\tvalCorrect += (pred.argmax(1) == y).type(\n",
        "\t\t\t\ttorch.float).sum().item()\n",
        "\n",
        "\t# calculate the average training and validation loss\n",
        "\tavgTrainLoss = totalTrainLoss / trainSteps\n",
        "\tavgValLoss = totalValLoss / valSteps\n",
        "\t# calculate the training and validation accuracy\n",
        "\ttrainCorrect = trainCorrect / len(trainDataLoader.dataset)\n",
        "\tvalCorrect = valCorrect / len(valDataLoader.dataset)\n",
        "\t# update our training history\n",
        "\tTRAIN_HISTORY[\"train_loss\"].append(avgTrainLoss.cpu().detach().numpy())\n",
        "\tTRAIN_HISTORY[\"train_acc\"].append(trainCorrect)\n",
        "\tTRAIN_HISTORY[\"val_loss\"].append(avgValLoss.cpu().detach().numpy())\n",
        "\tTRAIN_HISTORY[\"val_acc\"].append(valCorrect)\n",
        "\t# print the model training and validation information\n",
        "\tprint(\"[INFO] EPOCH: {}/{}\".format(e + 1, EPOCHS))\n",
        "\tprint(\"Train loss: {:.6f}, Train accuracy: {:.4f}\".format(\n",
        "\t\tavgTrainLoss, trainCorrect))\n",
        "\tprint(\"Val loss: {:.6f}, Val accuracy: {:.4f}\\n\".format(\n",
        "\t\tavgValLoss, valCorrect))\n",
        "\n",
        "print(\"[INFO] Completed training.\")\n",
        "\n",
        " # finish measuring how long training took\n",
        "endTime = time.time()\n",
        "print(\"[INFO] total time taken to train the model: {:.2f}s\".format(\n",
        "\tendTime - startTime))"
      ]
    },
    {
      "cell_type": "code",
      "execution_count": 44,
      "metadata": {
        "id": "7sCncBS9mnzR",
        "colab": {
          "base_uri": "https://localhost:8080/"
        },
        "outputId": "d27500c1-ed22-4e38-9330-e440f51ae230"
      },
      "outputs": [
        {
          "output_type": "stream",
          "name": "stdout",
          "text": [
            "[INFO] evaluating network...\n",
            "              precision    recall  f1-score   support\n",
            "\n",
            "     Class 0       0.93      0.94      0.94      1000\n",
            "     Class 1       0.97      0.94      0.96      1000\n",
            "     Class 2       0.94      0.95      0.95      1000\n",
            "     Class 3       0.83      0.90      0.86       126\n",
            "     Class 4       0.94      0.91      0.93      1000\n",
            "     Class 5       0.89      0.88      0.88      1000\n",
            "     Class 6       0.94      0.90      0.92      1000\n",
            "     Class 7       0.86      0.93      0.90      1000\n",
            "     Class 8       0.82      0.93      0.87       767\n",
            "     Class 9       0.95      0.90      0.93      1000\n",
            "    Class 10       0.93      0.95      0.94      1000\n",
            "    Class 11       0.95      0.90      0.93      1000\n",
            "    Class 12       0.91      0.89      0.90      1000\n",
            "    Class 13       0.91      0.87      0.89       678\n",
            "    Class 14       0.87      0.86      0.86       629\n",
            "    Class 15       0.95      0.93      0.94      1000\n",
            "    Class 16       0.98      0.94      0.96       418\n",
            "    Class 17       0.93      0.94      0.93      1000\n",
            "    Class 18       0.96      0.91      0.94      1000\n",
            "    Class 19       0.95      0.96      0.95      1000\n",
            "    Class 20       0.89      0.91      0.90      1000\n",
            "    Class 21       0.90      0.94      0.92      1000\n",
            "    Class 22       0.85      0.90      0.88       336\n",
            "    Class 23       0.90      0.93      0.91       399\n",
            "    Class 24       0.95      0.92      0.93      1000\n",
            "    Class 25       0.94      0.89      0.91      1000\n",
            "    Class 26       0.94      0.95      0.95       836\n",
            "    Class 27       0.96      0.88      0.92      1000\n",
            "    Class 28       0.96      0.92      0.94      1000\n",
            "    Class 29       0.82      0.92      0.87       324\n",
            "    Class 30       0.88      0.96      0.92      1000\n",
            "    Class 31       0.96      0.90      0.93       498\n",
            "    Class 32       0.96      0.87      0.91       280\n",
            "    Class 33       0.96      0.90      0.93       552\n",
            "    Class 34       0.92      0.96      0.94      1000\n",
            "    Class 35       0.89      0.92      0.91      1000\n",
            "    Class 36       0.85      0.94      0.89       260\n",
            "    Class 37       0.97      0.97      0.97      1000\n",
            "    Class 38       0.93      0.93      0.93      1000\n",
            "    Class 39       0.91      0.92      0.91      1000\n",
            "    Class 40       0.90      0.90      0.90      1000\n",
            "    Class 41       0.92      0.96      0.94      1000\n",
            "    Class 42       0.91      0.96      0.93       348\n",
            "    Class 43       0.93      0.90      0.92       390\n",
            "    Class 44       0.89      0.72      0.80        68\n",
            "    Class 45       0.88      0.83      0.85        64\n",
            "    Class 46       0.92      0.95      0.93      1000\n",
            "    Class 47       0.94      0.98      0.96      1000\n",
            "    Class 48       0.88      0.81      0.85       574\n",
            "\n",
            "    accuracy                           0.92     38547\n",
            "   macro avg       0.92      0.91      0.91     38547\n",
            "weighted avg       0.92      0.92      0.92     38547\n",
            "\n"
          ]
        }
      ],
      "source": [
        "# evaluate the network on the test set\n",
        "print(\"[INFO] evaluating network...\")\n",
        "\n",
        "# turn off autograd for testing evaluation\n",
        "with torch.no_grad():\n",
        "\t# set the model in evaluation mode\n",
        "\tmodel.eval()\n",
        "\n",
        "\t# initialize a list to store predictions\n",
        "\tpreds = []\n",
        "\t# Initialize a list to store true labels\n",
        "\ttrue_labels = []\n",
        "\n",
        "\t# loop over the test set\n",
        "\tfor (x, y) in testDataLoader:\n",
        "\t\t# send the input to the device\n",
        "\t\tx = x.to(device)\n",
        "\t\t# make the predictions and add them to the list\n",
        "\t\tpred = model(x)\n",
        "\t\tpreds.extend(pred.argmax(axis=1).cpu().numpy())\n",
        "\t\ttrue_labels.extend(y.cpu().numpy())\n",
        "# generate a classification report\n",
        "print(classification_report(true_labels,\n",
        "\tnp.array(preds), target_names=testData.classes))"
      ]
    },
    {
      "cell_type": "code",
      "execution_count": 45,
      "metadata": {
        "id": "Gd8HhmE8mvNW",
        "colab": {
          "base_uri": "https://localhost:8080/",
          "height": 477
        },
        "outputId": "e229db0f-2027-4afb-c351-1d2c6e635241"
      },
      "outputs": [
        {
          "output_type": "display_data",
          "data": {
            "text/plain": [
              "<Figure size 640x480 with 1 Axes>"
            ],
            "image/png": "[encoded data removed]"
          },
          "metadata": {}
        }
      ],
      "source": [
        "%matplotlib inline\n",
        "# plot the training loss and accuracy\n",
        "plt.style.use(\"ggplot\")\n",
        "plt.figure()\n",
        "plt.plot(TRAIN_HISTORY[\"train_loss\"], label=\"train_loss\")\n",
        "plt.plot(TRAIN_HISTORY[\"val_loss\"], label=\"val_loss\")\n",
        "plt.plot(TRAIN_HISTORY[\"train_acc\"], label=\"train_acc\")\n",
        "plt.plot(TRAIN_HISTORY[\"val_acc\"], label=\"val_acc\")\n",
        "plt.title(\"Training Loss and Accuracy on KMNIST Dataset\")\n",
        "plt.xlabel(\"Epoch #\")\n",
        "plt.ylabel(\"Loss/Accuracy\")\n",
        "plt.legend(loc=\"lower left\")\n",
        "plt.show()"
      ]
    },
    {
      "cell_type": "code",
      "source": [
        "# Your existing transformation\n",
        "transform = ToPILImage()\n",
        "\n",
        "# Number of images per row and column in the grid\n",
        "rows = 5\n",
        "cols = 10\n",
        "\n",
        "fig, axes = plt.subplots(rows, cols, figsize=(20, 10))\n",
        "axes = axes.flatten()\n",
        "\n",
        "for i in range(50):  # Assuming you want to display the first 50 images\n",
        "    img, label = testData[i]  # Get image and label\n",
        "    img = transform(img)  # Transform the image\n",
        "\n",
        "    # Convert PIL image to numpy array for matplotlib\n",
        "    img_np = np.array(img)\n",
        "\n",
        "    # Display image\n",
        "    ax = axes[i]\n",
        "    ax.imshow(img_np)\n",
        "    ax.axis('off')  # Hide the axes ticks\n",
        "    ax.set_title(f'Label: {label}', fontsize=8)  # Optionally set title with label\n",
        "\n",
        "plt.tight_layout()\n",
        "plt.show()"
      ],
      "metadata": {
        "id": "a0E_FF9ZLx22"
      },
      "execution_count": null,
      "outputs": []
    }
  ],
  "metadata": {
    "colab": {
      "provenance": []
    },
    "kernelspec": {
      "display_name": "Python 3",
      "name": "python3"
    },
    "language_info": {
      "name": "python"
    }
  },
  "nbformat": 4,
  "nbformat_minor": 0
}